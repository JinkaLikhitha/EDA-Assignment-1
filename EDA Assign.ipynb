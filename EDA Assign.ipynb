{
 "cells": [
  {
   "cell_type": "code",
   "execution_count": 1,
   "id": "9517e407-a266-4c96-8c13-bc160c78cf15",
   "metadata": {},
   "outputs": [],
   "source": [
    "import pandas as pd\n",
    "df=pd.read_csv('heart_failure_clinical_records_dataset.csv')"
   ]
  },
  {
   "cell_type": "code",
   "execution_count": 2,
   "id": "9dcc95df-1476-4aca-b7c1-a0171c18079a",
   "metadata": {},
   "outputs": [
    {
     "data": {
      "text/html": [
       "<div>\n",
       "<style scoped>\n",
       "    .dataframe tbody tr th:only-of-type {\n",
       "        vertical-align: middle;\n",
       "    }\n",
       "\n",
       "    .dataframe tbody tr th {\n",
       "        vertical-align: top;\n",
       "    }\n",
       "\n",
       "    .dataframe thead th {\n",
       "        text-align: right;\n",
       "    }\n",
       "</style>\n",
       "<table border=\"1\" class=\"dataframe\">\n",
       "  <thead>\n",
       "    <tr style=\"text-align: right;\">\n",
       "      <th></th>\n",
       "      <th>age</th>\n",
       "      <th>anaemia</th>\n",
       "      <th>creatinine_phosphokinase</th>\n",
       "      <th>diabetes</th>\n",
       "      <th>ejection_fraction</th>\n",
       "      <th>high_blood_pressure</th>\n",
       "      <th>platelets</th>\n",
       "      <th>serum_creatinine</th>\n",
       "      <th>serum_sodium</th>\n",
       "      <th>sex</th>\n",
       "      <th>smoking</th>\n",
       "      <th>time</th>\n",
       "      <th>DEATH_EVENT</th>\n",
       "    </tr>\n",
       "  </thead>\n",
       "  <tbody>\n",
       "    <tr>\n",
       "      <th>0</th>\n",
       "      <td>75.0</td>\n",
       "      <td>0</td>\n",
       "      <td>582</td>\n",
       "      <td>0</td>\n",
       "      <td>20</td>\n",
       "      <td>1</td>\n",
       "      <td>265000.00</td>\n",
       "      <td>1.9</td>\n",
       "      <td>130</td>\n",
       "      <td>1</td>\n",
       "      <td>0</td>\n",
       "      <td>4</td>\n",
       "      <td>1</td>\n",
       "    </tr>\n",
       "    <tr>\n",
       "      <th>1</th>\n",
       "      <td>55.0</td>\n",
       "      <td>0</td>\n",
       "      <td>7861</td>\n",
       "      <td>0</td>\n",
       "      <td>38</td>\n",
       "      <td>0</td>\n",
       "      <td>263358.03</td>\n",
       "      <td>1.1</td>\n",
       "      <td>136</td>\n",
       "      <td>1</td>\n",
       "      <td>0</td>\n",
       "      <td>6</td>\n",
       "      <td>1</td>\n",
       "    </tr>\n",
       "    <tr>\n",
       "      <th>2</th>\n",
       "      <td>65.0</td>\n",
       "      <td>0</td>\n",
       "      <td>146</td>\n",
       "      <td>0</td>\n",
       "      <td>20</td>\n",
       "      <td>0</td>\n",
       "      <td>162000.00</td>\n",
       "      <td>1.3</td>\n",
       "      <td>129</td>\n",
       "      <td>1</td>\n",
       "      <td>1</td>\n",
       "      <td>7</td>\n",
       "      <td>1</td>\n",
       "    </tr>\n",
       "    <tr>\n",
       "      <th>3</th>\n",
       "      <td>50.0</td>\n",
       "      <td>1</td>\n",
       "      <td>111</td>\n",
       "      <td>0</td>\n",
       "      <td>20</td>\n",
       "      <td>0</td>\n",
       "      <td>210000.00</td>\n",
       "      <td>1.9</td>\n",
       "      <td>137</td>\n",
       "      <td>1</td>\n",
       "      <td>0</td>\n",
       "      <td>7</td>\n",
       "      <td>1</td>\n",
       "    </tr>\n",
       "    <tr>\n",
       "      <th>4</th>\n",
       "      <td>65.0</td>\n",
       "      <td>1</td>\n",
       "      <td>160</td>\n",
       "      <td>1</td>\n",
       "      <td>20</td>\n",
       "      <td>0</td>\n",
       "      <td>327000.00</td>\n",
       "      <td>2.7</td>\n",
       "      <td>116</td>\n",
       "      <td>0</td>\n",
       "      <td>0</td>\n",
       "      <td>8</td>\n",
       "      <td>1</td>\n",
       "    </tr>\n",
       "    <tr>\n",
       "      <th>...</th>\n",
       "      <td>...</td>\n",
       "      <td>...</td>\n",
       "      <td>...</td>\n",
       "      <td>...</td>\n",
       "      <td>...</td>\n",
       "      <td>...</td>\n",
       "      <td>...</td>\n",
       "      <td>...</td>\n",
       "      <td>...</td>\n",
       "      <td>...</td>\n",
       "      <td>...</td>\n",
       "      <td>...</td>\n",
       "      <td>...</td>\n",
       "    </tr>\n",
       "    <tr>\n",
       "      <th>294</th>\n",
       "      <td>62.0</td>\n",
       "      <td>0</td>\n",
       "      <td>61</td>\n",
       "      <td>1</td>\n",
       "      <td>38</td>\n",
       "      <td>1</td>\n",
       "      <td>155000.00</td>\n",
       "      <td>1.1</td>\n",
       "      <td>143</td>\n",
       "      <td>1</td>\n",
       "      <td>1</td>\n",
       "      <td>270</td>\n",
       "      <td>0</td>\n",
       "    </tr>\n",
       "    <tr>\n",
       "      <th>295</th>\n",
       "      <td>55.0</td>\n",
       "      <td>0</td>\n",
       "      <td>1820</td>\n",
       "      <td>0</td>\n",
       "      <td>38</td>\n",
       "      <td>0</td>\n",
       "      <td>270000.00</td>\n",
       "      <td>1.2</td>\n",
       "      <td>139</td>\n",
       "      <td>0</td>\n",
       "      <td>0</td>\n",
       "      <td>271</td>\n",
       "      <td>0</td>\n",
       "    </tr>\n",
       "    <tr>\n",
       "      <th>296</th>\n",
       "      <td>45.0</td>\n",
       "      <td>0</td>\n",
       "      <td>2060</td>\n",
       "      <td>1</td>\n",
       "      <td>60</td>\n",
       "      <td>0</td>\n",
       "      <td>742000.00</td>\n",
       "      <td>0.8</td>\n",
       "      <td>138</td>\n",
       "      <td>0</td>\n",
       "      <td>0</td>\n",
       "      <td>278</td>\n",
       "      <td>0</td>\n",
       "    </tr>\n",
       "    <tr>\n",
       "      <th>297</th>\n",
       "      <td>45.0</td>\n",
       "      <td>0</td>\n",
       "      <td>2413</td>\n",
       "      <td>0</td>\n",
       "      <td>38</td>\n",
       "      <td>0</td>\n",
       "      <td>140000.00</td>\n",
       "      <td>1.4</td>\n",
       "      <td>140</td>\n",
       "      <td>1</td>\n",
       "      <td>1</td>\n",
       "      <td>280</td>\n",
       "      <td>0</td>\n",
       "    </tr>\n",
       "    <tr>\n",
       "      <th>298</th>\n",
       "      <td>50.0</td>\n",
       "      <td>0</td>\n",
       "      <td>196</td>\n",
       "      <td>0</td>\n",
       "      <td>45</td>\n",
       "      <td>0</td>\n",
       "      <td>395000.00</td>\n",
       "      <td>1.6</td>\n",
       "      <td>136</td>\n",
       "      <td>1</td>\n",
       "      <td>1</td>\n",
       "      <td>285</td>\n",
       "      <td>0</td>\n",
       "    </tr>\n",
       "  </tbody>\n",
       "</table>\n",
       "<p>299 rows × 13 columns</p>\n",
       "</div>"
      ],
      "text/plain": [
       "      age  anaemia  creatinine_phosphokinase  diabetes  ejection_fraction  \\\n",
       "0    75.0        0                       582         0                 20   \n",
       "1    55.0        0                      7861         0                 38   \n",
       "2    65.0        0                       146         0                 20   \n",
       "3    50.0        1                       111         0                 20   \n",
       "4    65.0        1                       160         1                 20   \n",
       "..    ...      ...                       ...       ...                ...   \n",
       "294  62.0        0                        61         1                 38   \n",
       "295  55.0        0                      1820         0                 38   \n",
       "296  45.0        0                      2060         1                 60   \n",
       "297  45.0        0                      2413         0                 38   \n",
       "298  50.0        0                       196         0                 45   \n",
       "\n",
       "     high_blood_pressure  platelets  serum_creatinine  serum_sodium  sex  \\\n",
       "0                      1  265000.00               1.9           130    1   \n",
       "1                      0  263358.03               1.1           136    1   \n",
       "2                      0  162000.00               1.3           129    1   \n",
       "3                      0  210000.00               1.9           137    1   \n",
       "4                      0  327000.00               2.7           116    0   \n",
       "..                   ...        ...               ...           ...  ...   \n",
       "294                    1  155000.00               1.1           143    1   \n",
       "295                    0  270000.00               1.2           139    0   \n",
       "296                    0  742000.00               0.8           138    0   \n",
       "297                    0  140000.00               1.4           140    1   \n",
       "298                    0  395000.00               1.6           136    1   \n",
       "\n",
       "     smoking  time  DEATH_EVENT  \n",
       "0          0     4            1  \n",
       "1          0     6            1  \n",
       "2          1     7            1  \n",
       "3          0     7            1  \n",
       "4          0     8            1  \n",
       "..       ...   ...          ...  \n",
       "294        1   270            0  \n",
       "295        0   271            0  \n",
       "296        0   278            0  \n",
       "297        1   280            0  \n",
       "298        1   285            0  \n",
       "\n",
       "[299 rows x 13 columns]"
      ]
     },
     "execution_count": 2,
     "metadata": {},
     "output_type": "execute_result"
    }
   ],
   "source": [
    "df"
   ]
  },
  {
   "cell_type": "markdown",
   "id": "31a22df1-cdc8-427e-aa81-5e5570fa4697",
   "metadata": {},
   "source": [
    "1. What is the distribution of age among heart failure patients in the dataset?"
   ]
  },
  {
   "cell_type": "code",
   "execution_count": 3,
   "id": "96971d21-cb80-4d62-8209-5f6007e6ce46",
   "metadata": {},
   "outputs": [],
   "source": [
    "age_dist = df['age'].value_counts()"
   ]
  },
  {
   "cell_type": "code",
   "execution_count": 4,
   "id": "34f944cc-01ea-4bb1-8bf0-1520efc6a0dc",
   "metadata": {},
   "outputs": [
    {
     "data": {
      "text/plain": [
       "60.000    33\n",
       "50.000    27\n",
       "65.000    26\n",
       "70.000    25\n",
       "45.000    19\n",
       "55.000    17\n",
       "75.000    11\n",
       "53.000    10\n",
       "58.000    10\n",
       "63.000     8\n",
       "80.000     7\n",
       "72.000     7\n",
       "40.000     7\n",
       "42.000     7\n",
       "85.000     6\n",
       "68.000     5\n",
       "52.000     5\n",
       "62.000     5\n",
       "51.000     4\n",
       "59.000     4\n",
       "61.000     4\n",
       "73.000     4\n",
       "49.000     4\n",
       "69.000     3\n",
       "46.000     3\n",
       "64.000     3\n",
       "82.000     3\n",
       "90.000     3\n",
       "78.000     2\n",
       "60.667     2\n",
       "54.000     2\n",
       "77.000     2\n",
       "57.000     2\n",
       "66.000     2\n",
       "44.000     2\n",
       "67.000     2\n",
       "95.000     2\n",
       "48.000     2\n",
       "43.000     1\n",
       "86.000     1\n",
       "81.000     1\n",
       "79.000     1\n",
       "41.000     1\n",
       "94.000     1\n",
       "87.000     1\n",
       "47.000     1\n",
       "56.000     1\n",
       "Name: age, dtype: int64"
      ]
     },
     "execution_count": 4,
     "metadata": {},
     "output_type": "execute_result"
    }
   ],
   "source": [
    "age_dist"
   ]
  },
  {
   "cell_type": "markdown",
   "id": "8782dcae-6b50-43c6-8160-a7b96a9d9a90",
   "metadata": {},
   "source": [
    "2. How does the death rate vary with age?"
   ]
  },
  {
   "cell_type": "code",
   "execution_count": 5,
   "id": "5e17b025-28a9-4e13-bb03-38192e640e43",
   "metadata": {},
   "outputs": [
    {
     "name": "stdout",
     "output_type": "stream",
     "text": [
      "           sum  count  DEATH_EVENT\n",
      "age                               \n",
      "[0, 18)      0      0          NaN\n",
      "[18, 30)     0      0          NaN\n",
      "[30, 40)     0      0          NaN\n",
      "[40, 50)    11     47     0.234043\n",
      "[50, 60)    20     82     0.243902\n",
      "[60, 70)    27     93     0.290323\n",
      "[70, 80)    20     52     0.384615\n",
      "[80, 90)    13     19     0.684211\n",
      "[90, 100)    5      6     0.833333\n"
     ]
    }
   ],
   "source": [
    "age_groups = pd.cut(df['age'], bins=[0, 18, 30, 40, 50, 60, 70, 80, 90, 100], right=False)\n",
    "\n",
    "# Calculating the total number of deaths and total number of individuals in each age group\n",
    "death_rate_data = df.groupby(age_groups)['DEATH_EVENT'].agg(['sum', 'count'])\n",
    "\n",
    "# Computing the death rate (deaths per individual) for each age group\n",
    "death_rate_data['DEATH_EVENT'] = death_rate_data['sum'] / death_rate_data['count']\n",
    "\n",
    "# Displaying the death rate data\n",
    "print(death_rate_data)"
   ]
  },
  {
   "cell_type": "markdown",
   "id": "09ca3c6e-c885-4c5b-af03-4423ed2f506c",
   "metadata": {},
   "source": [
    "3. What is the percentage of male and female patients in the dataset?"
   ]
  },
  {
   "cell_type": "code",
   "execution_count": 34,
   "id": "ccdc3aeb-427e-4902-8c6d-777307cf10a4",
   "metadata": {},
   "outputs": [],
   "source": [
    "male_count = (df['sex'] == 1).sum()\n",
    "female_count = (df['sex'] == 0).sum()\n",
    "total_patients = len(df)\n",
    "male_percentage = (male_count / total_patients) * 100\n",
    "female_percentage = (female_count / total_patients) * 100"
   ]
  },
  {
   "cell_type": "code",
   "execution_count": 35,
   "id": "26cb0db6-19a4-437a-b0cf-dbc195392769",
   "metadata": {},
   "outputs": [
    {
     "data": {
      "text/plain": [
       "64.88294314381271"
      ]
     },
     "execution_count": 35,
     "metadata": {},
     "output_type": "execute_result"
    }
   ],
   "source": [
    "male_percentage"
   ]
  },
  {
   "cell_type": "code",
   "execution_count": 36,
   "id": "90e472e6-f756-44c3-94c9-9e56c7285e2c",
   "metadata": {},
   "outputs": [
    {
     "data": {
      "text/plain": [
       "35.11705685618729"
      ]
     },
     "execution_count": 36,
     "metadata": {},
     "output_type": "execute_result"
    }
   ],
   "source": [
    "female_percentage"
   ]
  },
  {
   "cell_type": "markdown",
   "id": "db7e3bfd-c1ff-4436-877b-7fe758aabadf",
   "metadata": {},
   "source": [
    "4. How does the platelet count vary among different age groups?"
   ]
  },
  {
   "cell_type": "code",
   "execution_count": 37,
   "id": "b27a7438-13ae-4a32-9f80-074d8d520dd6",
   "metadata": {},
   "outputs": [
    {
     "name": "stdout",
     "output_type": "stream",
     "text": [
      "age_group\n",
      "0-18                NaN\n",
      "19-30               NaN\n",
      "31-40               NaN\n",
      "41-50     285931.705319\n",
      "51-60     265001.807073\n",
      "61-70     248990.840645\n",
      "71-80     267036.349038\n",
      "81-90     252248.213684\n",
      "91-100    290059.671667\n",
      "Name: platelets, dtype: float64\n"
     ]
    }
   ],
   "source": [
    "age_bins = [0, 18, 30, 40, 50, 60, 70, 80, 90, 100]\n",
    "age_labels = ['0-18', '19-30', '31-40', '41-50', '51-60', '61-70', '71-80', '81-90', '91-100']\n",
    "\n",
    "# Cut the data into age groups\n",
    "df['age_group'] = pd.cut(df['age'], bins=age_bins, labels=age_labels, right=False)\n",
    "\n",
    "# Group by age group and calculate mean platelet count\n",
    "platelet_by_age = df.groupby('age_group')['platelets'].mean()\n",
    "\n",
    "print(platelet_by_age)"
   ]
  },
  {
   "cell_type": "markdown",
   "id": "b27c8260-3522-4214-a2fb-a3254b4cfc9b",
   "metadata": {},
   "source": [
    " 5. Is there a correlation between creatinine and sodium levels in the blood?"
   ]
  },
  {
   "cell_type": "code",
   "execution_count": 38,
   "id": "fe2f7d1d-5227-4433-bd97-88bcfb42302c",
   "metadata": {},
   "outputs": [
    {
     "name": "stdout",
     "output_type": "stream",
     "text": [
      "-0.1890952100911741\n"
     ]
    }
   ],
   "source": [
    "correlation = df['serum_creatinine'].corr(df['serum_sodium'])\n",
    "print(correlation)"
   ]
  },
  {
   "cell_type": "markdown",
   "id": "2e158364-5786-459c-96ba-c2b47aa8cd6c",
   "metadata": {},
   "source": [
    "6. How does the prevalence of high blood pressure differ between male and female patients?"
   ]
  },
  {
   "cell_type": "code",
   "execution_count": 39,
   "id": "67c53fa2-f277-4355-a857-d0ebce532d3c",
   "metadata": {},
   "outputs": [
    {
     "name": "stdout",
     "output_type": "stream",
     "text": [
      "Proportion of patients with high blood pressure by gender:\n",
      "sex\n",
      "0    0.419048\n",
      "1    0.314433\n",
      "Name: high_blood_pressure, dtype: float64\n"
     ]
    }
   ],
   "source": [
    "gender_hbp_proportion = df.groupby('sex')['high_blood_pressure'].mean()\n",
    "\n",
    "print(\"Proportion of patients with high blood pressure by gender:\")\n",
    "print(gender_hbp_proportion)"
   ]
  },
  {
   "cell_type": "markdown",
   "id": "bac5793f-04c3-4dee-81ae-a2368856eda5",
   "metadata": {},
   "source": [
    "7. What is the relationship between smoking habits and the occurrence of heart failure?"
   ]
  },
  {
   "cell_type": "code",
   "execution_count": 46,
   "id": "fccf78f1-79cb-4f56-9df6-a18ef55ec42f",
   "metadata": {},
   "outputs": [
    {
     "name": "stdout",
     "output_type": "stream",
     "text": [
      "Occurrence of heart failure by smoking status:\n",
      "smoking\n",
      "0    0.325123\n",
      "1    0.312500\n",
      "Name: DEATH_EVENT, dtype: float64\n"
     ]
    }
   ],
   "source": [
    "heart_failure_by_smoking = df.groupby('smoking')['DEATH_EVENT'].mean()\n",
    "\n",
    "# Print the occurrence rates\n",
    "print(\"Occurrence of heart failure by smoking status:\")\n",
    "print(heart_failure_by_smoking)"
   ]
  },
  {
   "cell_type": "markdown",
   "id": "11f6a2f7-fd9d-40b2-bdf4-67555684ab49",
   "metadata": {},
   "source": [
    "8. Are there any noticeable patterns in the distribution of death events across different age groups?"
   ]
  },
  {
   "cell_type": "code",
   "execution_count": 47,
   "id": "4d59e267-f1b4-4143-83ec-347574f4ff0a",
   "metadata": {},
   "outputs": [
    {
     "name": "stdout",
     "output_type": "stream",
     "text": [
      "Cross-tabulation of age groups and death events:\n",
      "DEATH_EVENT   0   1\n",
      "age_group          \n",
      "31-40         7   0\n",
      "41-50        48  19\n",
      "51-60        63  25\n",
      "61-70        64  21\n",
      "71-80        16  18\n",
      "81-90         5  10\n",
      "91-100        0   3\n"
     ]
    }
   ],
   "source": [
    "df['age_group'] = pd.cut(df['age'], bins=[0, 18, 30, 40, 50, 60, 70, 80, 90, 100], labels=['0-18', '19-30', '31-40', '41-50', '51-60', '61-70', '71-80', '81-90', '91-100'])\n",
    "\n",
    "# Create a cross-tabulation of age groups and death events\n",
    "cross_tab = pd.crosstab(df['age_group'], df['DEATH_EVENT'])\n",
    "\n",
    "print(\"Cross-tabulation of age groups and death events:\")\n",
    "print(cross_tab)"
   ]
  },
  {
   "cell_type": "markdown",
   "id": "84263661-a29f-471d-a454-aac68870e141",
   "metadata": {},
   "source": [
    "9. Is there any significant difference in ejection fraction between patients with and without diabetes? "
   ]
  },
  {
   "cell_type": "code",
   "execution_count": 48,
   "id": "a336d36a-eb9a-4856-a3ad-ea700c520e85",
   "metadata": {},
   "outputs": [
    {
     "name": "stdout",
     "output_type": "stream",
     "text": [
      "There is no significant difference in ejection fraction between patients with and without diabetes.\n"
     ]
    }
   ],
   "source": [
    "from scipy.stats import ttest_ind\n",
    "\n",
    "# Assuming 'ejection_fraction' is the column containing ejection fraction information\n",
    "# 'diabetes' is the column containing diabetes information (1 for patients with diabetes, 0 for patients without diabetes)\n",
    "\n",
    "# Separate data into two groups: patients with and without diabetes\n",
    "ejection_fraction_diabetes = df[df['diabetes'] == 1]['ejection_fraction']\n",
    "ejection_fraction_no_diabetes = df[df['diabetes'] == 0]['ejection_fraction']\n",
    "\n",
    "# Perform the t-test\n",
    "t_stat, p_value = ttest_ind(ejection_fraction_diabetes, ejection_fraction_no_diabetes)\n",
    "\n",
    "# Define significance level (alpha)\n",
    "alpha = 0.05\n",
    "\n",
    "# Compare p-value to alpha to determine significance\n",
    "if p_value < alpha:\n",
    "    print(\"There is a significant difference in ejection fraction between patients with and without diabetes.\")\n",
    "else:\n",
    "    print(\"There is no significant difference in ejection fraction between patients with and without diabetes.\")\n"
   ]
  },
  {
   "cell_type": "markdown",
   "id": "5336bf20-8fd7-447e-be08-581facd64ea8",
   "metadata": {},
   "source": [
    "10. How does the serum creatinine level vary between patients who survived and those who did not?"
   ]
  },
  {
   "cell_type": "code",
   "execution_count": 50,
   "id": "af6d54fd-7a07-4303-8bc5-d1ef13c56edf",
   "metadata": {},
   "outputs": [
    {
     "name": "stdout",
     "output_type": "stream",
     "text": [
      "count    203.000000\n",
      "mean       1.184877\n",
      "std        0.654083\n",
      "min        0.500000\n",
      "25%        0.900000\n",
      "50%        1.000000\n",
      "75%        1.200000\n",
      "max        6.100000\n",
      "Name: serum_creatinine, dtype: float64\n",
      "count    96.000000\n",
      "mean      1.835833\n",
      "std       1.468562\n",
      "min       0.600000\n",
      "25%       1.075000\n",
      "50%       1.300000\n",
      "75%       1.900000\n",
      "max       9.400000\n",
      "Name: serum_creatinine, dtype: float64\n"
     ]
    }
   ],
   "source": [
    "creatinine_survived = df[df['DEATH_EVENT'] == 0]['serum_creatinine']\n",
    "creatinine_not_survived = df[df['DEATH_EVENT'] == 1]['serum_creatinine']\n",
    "\n",
    "# Calculate summary statistics for each group\n",
    "summary_survived = creatinine_survived.describe()\n",
    "summary_not_survived = creatinine_not_survived.describe()\n",
    "print(\"Summary statistics for serum creatinine levels of patients who survived:\")\n",
    "\n",
    "print(summary_survived)\n",
    "\n",
    "print(summary_not_survived)"
   ]
  },
  {
   "cell_type": "code",
   "execution_count": null,
   "id": "c17117db-7463-420b-b2c3-f47cb7b1d966",
   "metadata": {},
   "outputs": [],
   "source": []
  }
 ],
 "metadata": {
  "kernelspec": {
   "display_name": "Python 3 (ipykernel)",
   "language": "python",
   "name": "python3"
  },
  "language_info": {
   "codemirror_mode": {
    "name": "ipython",
    "version": 3
   },
   "file_extension": ".py",
   "mimetype": "text/x-python",
   "name": "python",
   "nbconvert_exporter": "python",
   "pygments_lexer": "ipython3",
   "version": "3.10.8"
  }
 },
 "nbformat": 4,
 "nbformat_minor": 5
}
